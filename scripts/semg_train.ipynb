{
 "cells": [
  {
   "attachments": {},
   "cell_type": "markdown",
   "metadata": {},
   "source": [
    "### 获取特征矩阵"
   ]
  },
  {
   "cell_type": "code",
   "execution_count": 1,
   "metadata": {},
   "outputs": [],
   "source": [
    "import scipy\n",
    "\n",
    "def get_feature_dict(filename):\n",
    "    \"\"\"将ninapro_feature的MAT文件加载为字典\n",
    "\n",
    "    Args:\n",
    "        path: mat文件路径\n",
    "        filename: mat文件名\n",
    "\n",
    "    Returns:\n",
    "        数据集字典\n",
    "        [feat_set, featStim, featRep]\n",
    "    \"\"\"\n",
    "    # 读取MAT文件\n",
    "    print('load file: ' + filename + '...', end= '', flush=True)\n",
    "    dict_feature=scipy.io.loadmat(filename)\n",
    "    if (dict_feature != ()):\n",
    "        #print(ninapro_data.keys())\n",
    "        print('[ok]:%d'%(len(dict_feature['featStim'])), flush=True)\n",
    "    # 返回字典\n",
    "    return dict_feature\n",
    "\n"
   ]
  },
  {
   "cell_type": "code",
   "execution_count": null,
   "metadata": {},
   "outputs": [],
   "source": [
    "import numpy as np\n",
    "\n",
    "feature_dict = get_feature_dict(\"../feature/feature_S1s20.mat\")\n",
    "index = []\n",
    "for i in range(len(feature_dict['featStim'])):\n",
    "    if feature_dict['featStim'][i]!=0:\n",
    "        index.append(i)\n",
    "emg_feature = feature_dict['feat_set'][index,:,:]\n",
    "labels = feature_dict['featStim'][index,:]\n",
    "print(emg_feature.shape)"
   ]
  },
  {
   "cell_type": "code",
   "execution_count": 4,
   "metadata": {},
   "outputs": [
    {
     "name": "stdout",
     "output_type": "stream",
     "text": [
      "loading file: ../feature/feature_S1.matload file: ../feature/feature_S1.mat...[ok]:206751\n",
      "[ok] 206751\n",
      "loading file: ../feature/feature_S2.matload file: ../feature/feature_S2.mat...[ok]:206659\n",
      "[ok] 206659\n",
      "loading file: ../feature/feature_S3.matload file: ../feature/feature_S3.mat...[ok]:207104\n",
      "[ok] 207104\n",
      "loading file: ../feature/feature_S4.matload file: ../feature/feature_S4.mat...[ok]:206841\n",
      "[ok] 206841\n",
      "(403854, 12, 10)\n"
     ]
    }
   ],
   "source": [
    "\n",
    "import numpy as np\n",
    "# 多人合并训练\n",
    "def merge_multisubject(b,e):\n",
    "    emg_feature = None\n",
    "    labels = None\n",
    "    for i in range(b,e+1):\n",
    "        print(\"loading file:\",\"../feature/feature_S{0}.mat\".format(i),end='',flush=True)\n",
    "        feature_dict = get_feature_dict(\"../feature/feature_S{0}.mat\".format(i))\n",
    "        print('[ok]',len(feature_dict['featStim']),flush=True)\n",
    "        index = []\n",
    "        for i in range(len(feature_dict['featStim'])):\n",
    "            if feature_dict['featStim'][i]!=0:\n",
    "                index.append(i)\n",
    "        if(emg_feature is None):\n",
    "            emg_feature = feature_dict['feat_set'][index,:,:]\n",
    "            labels = feature_dict['featStim'][index,:]\n",
    "        else:\n",
    "            emg_feature = np.vstack((emg_feature,feature_dict['feat_set'][index,:,:])) \n",
    "            labels = np.vstack((labels,feature_dict['featStim'][index,:]))\n",
    "    return emg_feature,labels\n",
    "emg_feature,labels = merge_multisubject(1,4)\n",
    "print(emg_feature.shape)"
   ]
  },
  {
   "cell_type": "code",
   "execution_count": 5,
   "metadata": {},
   "outputs": [
    {
     "data": {
      "text/plain": [
       "[<matplotlib.lines.Line2D at 0x223287a63a0>]"
      ]
     },
     "execution_count": 5,
     "metadata": {},
     "output_type": "execute_result"
    },
    {
     "data": {
      "image/png": "[encoded data removed]",
      "text/plain": [
       "<Figure size 640x480 with 1 Axes>"
      ]
     },
     "metadata": {},
     "output_type": "display_data"
    }
   ],
   "source": [
    "import matplotlib.pyplot as plt\n",
    "plt.plot(labels)"
   ]
  },
  {
   "attachments": {},
   "cell_type": "markdown",
   "metadata": {},
   "source": [
    "### 模型结构"
   ]
  },
  {
   "cell_type": "code",
   "execution_count": null,
   "metadata": {},
   "outputs": [],
   "source": [
    "import torch\n",
    "import torch.nn as nn\n",
    "from torch.autograd import Variable\n",
    "from torchsummary import summary\n",
    "import torch.nn.functional as F\n",
    "\n",
    "\n",
    "class GengNet(nn.Module):\n",
    "    def __init__(self, class_num=None, base_features=64, window_length=256, input_channels=6):\n",
    "        super(GengNet, self).__init__()\n",
    "        self.class_num = class_num\n",
    "        self.conv1 = nn.Sequential(\n",
    "            nn.Conv2d(in_channels=1,  # for EMG images, the channels is 1. not the signal channels: input_channels\n",
    "                      out_channels=base_features,\n",
    "                      kernel_size=3, stride=1, padding=1),\n",
    "            nn.BatchNorm2d(base_features),\n",
    "            nn.ReLU(),\n",
    "        )\n",
    "        self.conv2 = nn.Sequential(\n",
    "            nn.Conv2d(in_channels=base_features,\n",
    "                      out_channels=base_features,\n",
    "                      kernel_size=3, stride=1, padding=1),\n",
    "            nn.BatchNorm2d(base_features),\n",
    "            nn.ReLU(),\n",
    "        )\n",
    "        self.conv3 = nn.Sequential(\n",
    "            nn.Conv2d(in_channels=base_features,\n",
    "                      out_channels=base_features,\n",
    "                      kernel_size=1, stride=1),\n",
    "            nn.BatchNorm2d(base_features),\n",
    "            nn.ReLU(),\n",
    "        )\n",
    "        self.conv4 = nn.Sequential(\n",
    "            nn.Conv2d(in_channels=base_features,\n",
    "                      out_channels=base_features,\n",
    "                      kernel_size=1, stride=1),\n",
    "            nn.BatchNorm2d(base_features),\n",
    "            nn.ReLU(),\n",
    "            nn.Dropout(p=0.5),\n",
    "        )\n",
    "\n",
    "        self.fcn1 = nn.Sequential(\n",
    "            nn.Linear(base_features * window_length * input_channels, 512),\n",
    "            nn.ReLU(),\n",
    "            nn.Dropout(p=0.5),\n",
    "            nn.Linear(512, 128),\n",
    "            nn.ReLU(),\n",
    "            nn.Dropout(p=0.5)\n",
    "        )\n",
    "        self.fcn2 = nn.Linear(128, self.class_num)\n",
    "\n",
    "    def forward(self, x):\n",
    "        x = self.conv1(x)\n",
    "        x = self.conv2(x)\n",
    "        x = self.conv3(x)\n",
    "        x = self.conv4(x)\n",
    "\n",
    "        x = self.fcn1(x.view(x.size(0), -1))\n",
    "        x = self.fcn2(x)\n",
    "        x = F.softmax(x, dim=1)\n",
    "        return x\n",
    "        \n",
    "device = torch.device(\"cuda:0\" if torch.cuda.is_available() else \"cpu\")\n",
    "print(\"The model will be running on\", device, \"device\")\n",
    "model_test = GengNet(class_num=40,base_features=16,window_length=10,input_channels=12).to(device)\n",
    "summary(model_test,(1,12,10))"
   ]
  },
  {
   "cell_type": "code",
   "execution_count": null,
   "metadata": {},
   "outputs": [],
   "source": [
    "import time\n",
    "def testAccuracy(device, model, test_loader):\n",
    "    \n",
    "    model.eval()\n",
    "    accuracy = 0.0\n",
    "    total = 0.0\n",
    "    \n",
    "    with torch.no_grad():\n",
    "        for data in test_loader:\n",
    "            emg_data, labels = data\n",
    "            emg_data = Variable(emg_data.to(device))    # torch.Size([64, 1, 200, 12])\n",
    "            labels = Variable(labels.to(device))        # torch.Size([64])\n",
    "            # run the model on the test set to predict labels\n",
    "            outputs = model(emg_data)\n",
    "            # the label with the highest energy will be our prediction\n",
    "            _, predicted = torch.max(outputs.data, 1)\n",
    "            total += labels.size(0)\n",
    "            accuracy += (predicted == labels).sum().item()\n",
    "    \n",
    "    # compute the accuracy over all test images\n",
    "    accuracy = (100 * accuracy / total)\n",
    "    return(accuracy)\n",
    "\n",
    "def train(device, num_epochs, train_loader, test_loader):\n",
    "    best_accuracy = 0\n",
    "    model = models.resnet18(num_classes=40)\n",
    "    model.conv1 = nn.Conv2d(1, 64, kernel_size=7, stride=2, padding=3, bias=False)\n",
    "    model = model.to(device)\n",
    "    loss_func = torch.nn.CrossEntropyLoss()\n",
    "    optimizer = torch.optim.Adam(model.parameters(), lr=0.001)\n",
    "\n",
    "    \n",
    "    train_accs = []\n",
    "    train_loss = []\n",
    "    test_accs = []\n",
    "\n",
    "    for epoch in range(num_epochs):\n",
    "        running_loss = 0.0\n",
    "        for i,(inputs, labels) in enumerate(train_loader,0):#0是下标起始位置默认为0\n",
    "            # data 的格式[[inputs, labels]]       \n",
    "    #         inputs,labels = data\n",
    "            inputs = Variable(inputs.to(device))    # torch.Size([64, 1, 200, 12])\n",
    "            labels = Variable(labels.to(device))        # torch.Size([64]) \n",
    "            #初始为0，清除上个batch的梯度信息\n",
    "            optimizer.zero_grad()         \n",
    "\n",
    "            #前向+后向+优化     \n",
    "            outputs = model(inputs)\n",
    "            loss = loss_func(outputs,labels.long())\n",
    "            loss.backward()\n",
    "            optimizer.step()\n",
    "\n",
    "            # loss 的输出，每个一百个batch输出，平均的loss\n",
    "            running_loss += loss.item()\n",
    "            if i%100 == 99:\n",
    "                print('[%d,%5d] loss :%.3f' %\n",
    "                    (epoch+1,i+1,running_loss/100),end='',flush=True)\n",
    "                running_loss = 0.0\n",
    "            train_loss.append(loss.item())\n",
    "\n",
    "            # 训练曲线的绘制 一个batch中的准确率\n",
    "            correct = 0\n",
    "            total = 0\n",
    "            _, predicted = torch.max(outputs.data, 1)\n",
    "            total = labels.size(0)# labels 的长度\n",
    "            correct = (predicted == labels).sum().item() # 预测正确的数目\n",
    "            train_accs.append(100*correct/total)\n",
    "            if i%100 == 99:\n",
    "                print(' acc=%d'%(100*correct/total))\n",
    "            \n",
    "        accuracy = testAccuracy(device, model, test_loader)\n",
    "        print('For epoch', epoch+1,'the test accuracy over the whole test set is %d %%' % (accuracy))\n",
    "        # we want to save the model if the accuracy is the best\n",
    "        if accuracy > best_accuracy:\n",
    "            best_accuracy = accuracy\n",
    "            torch.save(model.state_dict(), \"../model/best_epoch{1}_{0}.pth\".format(epoch, (int(time.time())%1000000)))\n"
   ]
  },
  {
   "cell_type": "code",
   "execution_count": 6,
   "metadata": {},
   "outputs": [
    {
     "name": "stdout",
     "output_type": "stream",
     "text": [
      "For epoch 3 the test accuracy over the whole test set is 34 %\n",
      "[4,  100] loss :3.394 acc=34\n",
      "[4,  200] loss :3.383 acc=50\n",
      "[4,  300] loss :3.314 acc=43\n",
      "[4,  400] loss :3.379 acc=28\n",
      "[4,  500] loss :3.362 acc=37\n",
      "[4,  600] loss :3.336 acc=34\n",
      "[4,  700] loss :3.366 acc=31\n",
      "[4,  800] loss :3.345 acc=40\n",
      "[4,  900] loss :3.334 acc=43\n",
      "[4, 1000] loss :3.362 acc=21\n"
     ]
    }
   ],
   "source": [
    "import torchvision.transforms as tt\n",
    "# 矩阵数据预处理\n",
    "emg_feature = np.expand_dims(emg_feature,axis=1)*1e3\n",
    "emg_feature = emg_feature.astype(np.float32)\n",
    "labels = labels.flatten() - 1\n",
    "\n",
    "print('reshaped data:',emg_feature.shape)\n",
    "\n",
    "print('get dataloader...', end='',flush=True)\n",
    "emg_feature_t = torch.tensor(emg_feature)\n",
    "labels_t = torch.tensor(labels)\n",
    "torch_dataset = torch.utils.data.TensorDataset(emg_feature_t, labels_t)\n",
    "\n",
    "# 划分数据集与训练集\n",
    "test_size = int(len(labels)*0.2)\n",
    "train_dataset,test_dataset = torch.utils.data.random_split(dataset=torch_dataset,lengths = [len(labels)-test_size,test_size])\n",
    "train_loader = torch.utils.data.DataLoader(\n",
    "    dataset=train_dataset,      # torch TensorDataset format\n",
    "    batch_size=32,      # mini batch size\n",
    "    shuffle=True,               # 要不要打乱数据 (打乱比较好)\n",
    "    num_workers=2,              # 多线程来读数据\n",
    "    drop_last = True,\n",
    "   \n",
    ")\n",
    "test_loader = torch.utils.data.DataLoader(\n",
    "    dataset=test_dataset,      # torch TensorDataset format\n",
    "    batch_size=64,      # mini batch size\n",
    "    shuffle=False,               # 要不要打乱数据 (打乱比较好)\n",
    "    num_workers=2,              # 多线程来读数据\n",
    "    drop_last = True,\n",
    ")\n",
    "print('[ok]')\n",
    "print('begin to train.....')\n",
    "# 模型训练\n",
    "train(device, 50, train_loader, test_loader)"
   ]
  },
  {
   "cell_type": "code",
   "execution_count": null,
   "metadata": {},
   "outputs": [],
   "source": []
  }
 ],
 "metadata": {
  "kernelspec": {
   "display_name": "torch_env",
   "language": "python",
   "name": "python3"
  },
  "language_info": {
   "codemirror_mode": {
    "name": "ipython",
    "version": 3
   },
   "file_extension": ".py",
   "mimetype": "text/x-python",
   "name": "python",
   "nbconvert_exporter": "python",
   "pygments_lexer": "ipython3",
   "version": "3.8.13 (default, Oct 19 2022, 22:38:03) [MSC v.1916 64 bit (AMD64)]"
  },
  "orig_nbformat": 4,
  "vscode": {
   "interpreter": {
    "hash": "91eaa33755ee0e6c8927d7837736bb7bf44cb27baec87b08c7a4a0a98fc82110"
   }
  }
 },
 "nbformat": 4,
 "nbformat_minor": 2
}
